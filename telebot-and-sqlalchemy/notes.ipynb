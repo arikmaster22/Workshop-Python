{
  "nbformat": 4,
  "nbformat_minor": 0,
  "metadata": {
    "colab": {
      "provenance": []
    },
    "kernelspec": {
      "name": "python3",
      "display_name": "Python 3"
    },
    "language_info": {
      "name": "python"
    }
  },
  "cells": [
    {
      "cell_type": "code",
      "execution_count": 1,
      "metadata": {
        "colab": {
          "base_uri": "https://localhost:8080/"
        },
        "id": "5N9Ej--kCBzE",
        "outputId": "e00c294b-8945-474f-b1b6-04fc72f02ff2"
      },
      "outputs": [
        {
          "output_type": "stream",
          "name": "stdout",
          "text": [
            "Looking in indexes: https://pypi.org/simple, https://us-python.pkg.dev/colab-wheels/public/simple/\n",
            "Collecting pyTelegramBotAPI\n",
            "  Downloading pyTelegramBotAPI-4.11.0.tar.gz (230 kB)\n",
            "\u001b[2K     \u001b[90m━━━━━━━━━━━━━━━━━━━━━━━━━━━━━━━━━━━━━━━\u001b[0m \u001b[32m230.4/230.4 kB\u001b[0m \u001b[31m4.1 MB/s\u001b[0m eta \u001b[36m0:00:00\u001b[0m\n",
            "\u001b[?25h  Preparing metadata (setup.py) ... \u001b[?25l\u001b[?25hdone\n",
            "Requirement already satisfied: requests in /usr/local/lib/python3.9/dist-packages (from pyTelegramBotAPI) (2.27.1)\n",
            "Requirement already satisfied: charset-normalizer~=2.0.0 in /usr/local/lib/python3.9/dist-packages (from requests->pyTelegramBotAPI) (2.0.12)\n",
            "Requirement already satisfied: idna<4,>=2.5 in /usr/local/lib/python3.9/dist-packages (from requests->pyTelegramBotAPI) (3.4)\n",
            "Requirement already satisfied: certifi>=2017.4.17 in /usr/local/lib/python3.9/dist-packages (from requests->pyTelegramBotAPI) (2022.12.7)\n",
            "Requirement already satisfied: urllib3<1.27,>=1.21.1 in /usr/local/lib/python3.9/dist-packages (from requests->pyTelegramBotAPI) (1.26.15)\n",
            "Building wheels for collected packages: pyTelegramBotAPI\n",
            "  Building wheel for pyTelegramBotAPI (setup.py) ... \u001b[?25l\u001b[?25hdone\n",
            "  Created wheel for pyTelegramBotAPI: filename=pyTelegramBotAPI-4.11.0-py3-none-any.whl size=212399 sha256=40fbc5ddc36498378d44c75087c54ac6519f5b5bfbe3168403cee6b230a61f7d\n",
            "  Stored in directory: /root/.cache/pip/wheels/19/00/29/5a29bbb5ebced37cb04e5d93102dd62e765f7a4e9ca3481036\n",
            "Successfully built pyTelegramBotAPI\n",
            "Installing collected packages: pyTelegramBotAPI\n",
            "Successfully installed pyTelegramBotAPI-4.11.0\n"
          ]
        }
      ],
      "source": [
        "! pip install pyTelegramBotAPI"
      ]
    },
    {
      "cell_type": "code",
      "source": [
        "! pip install sqlalchemy"
      ],
      "metadata": {
        "colab": {
          "base_uri": "https://localhost:8080/"
        },
        "id": "Iuog2c0pCNL-",
        "outputId": "bcd77cb2-4e6a-405a-a0c2-e35e66427386"
      },
      "execution_count": 2,
      "outputs": [
        {
          "output_type": "stream",
          "name": "stdout",
          "text": [
            "Looking in indexes: https://pypi.org/simple, https://us-python.pkg.dev/colab-wheels/public/simple/\n",
            "Requirement already satisfied: sqlalchemy in /usr/local/lib/python3.9/dist-packages (2.0.9)\n",
            "Requirement already satisfied: greenlet!=0.4.17 in /usr/local/lib/python3.9/dist-packages (from sqlalchemy) (2.0.2)\n",
            "Requirement already satisfied: typing-extensions>=4.2.0 in /usr/local/lib/python3.9/dist-packages (from sqlalchemy) (4.5.0)\n"
          ]
        }
      ]
    },
    {
      "cell_type": "markdown",
      "source": [
        "# SQLAlchemy\n",
        "\n",
        "Начнем с работы с базами данных через Python. Будем использовать библиотеку [SQLAlchemy](https://docs.sqlalchemy.org/en/20/)\n",
        "\n",
        "Эта библиотека позволяет работать с базами данных с помощью питоновских объектов, что позволяет не писать сырые SQL-запросы.\n",
        "\n",
        "Рассмотрим сперва императивное представление таблиц.\n",
        "\n",
        "Создадим две таблицы в нашей базе данных --- таблицу \"Авторы\" и таблицу \"Книги\"."
      ],
      "metadata": {
        "id": "KkaZRViLCgC3"
      }
    },
    {
      "cell_type": "code",
      "source": [
        "from sqlalchemy import MetaData, Table, Column, Integer, String, ForeignKey\n",
        "\n",
        "meta = MetaData() # аккумилирует все данные базы данных\n",
        "\n",
        "authors = Table('Authors', meta,\n",
        "                Column('id', Integer, primary_key=True),\n",
        "                Column('name', String, nullable=False, unique=True),\n",
        "                )\n",
        "\n",
        "books = Table('Books', meta,\n",
        "              Column('id', Integer, primary_key=True),\n",
        "              Column('title', String, nullable=False, unique=True),\n",
        "              Column('author_id', String, ForeignKey('Authors.id')),\n",
        "              Column('genre', String, nullable=False),\n",
        "              Column('price', Integer)\n",
        "              )"
      ],
      "metadata": {
        "id": "Y7bg5fwbCaRf"
      },
      "execution_count": 3,
      "outputs": []
    },
    {
      "cell_type": "markdown",
      "source": [
        "Чтобы теперь подсоединиться к базе, нужно использовать движок (объект ```Engine```) c помощью функции ```create_engine```.\n",
        "\n",
        "На вход ей нужно дать строку определенного формата в зависимости от самой вашей базы данных. В этом примере использует SQLite."
      ],
      "metadata": {
        "id": "GbVsU6ObE3q6"
      }
    },
    {
      "cell_type": "code",
      "source": [
        "from sqlalchemy import create_engine\n",
        "\n",
        "engine = create_engine('sqlite:///database.db', echo=True) # database.db --- сама база даных, echo -- булевый флаг, который отвечает за сохранение SQL логов в стандартный вывод\n",
        "\n",
        "conn = engine.connect() # коннектор, который выполняет все операции с базой\n",
        "\n",
        "meta.create_all(engine) # чтобы создать все таблицы, нужно передать объекту meta сам engine"
      ],
      "metadata": {
        "colab": {
          "base_uri": "https://localhost:8080/"
        },
        "id": "Y8bMEBpIDfBP",
        "outputId": "4bfc9a0b-9945-429a-e3fc-13dbad47a984"
      },
      "execution_count": 8,
      "outputs": [
        {
          "output_type": "stream",
          "name": "stdout",
          "text": [
            "2023-04-16 12:48:52,703 INFO sqlalchemy.engine.Engine BEGIN (implicit)\n"
          ]
        },
        {
          "output_type": "stream",
          "name": "stderr",
          "text": [
            "INFO:sqlalchemy.engine.Engine:BEGIN (implicit)\n"
          ]
        },
        {
          "output_type": "stream",
          "name": "stdout",
          "text": [
            "2023-04-16 12:48:52,707 INFO sqlalchemy.engine.Engine PRAGMA main.table_info(\"Authors\")\n"
          ]
        },
        {
          "output_type": "stream",
          "name": "stderr",
          "text": [
            "INFO:sqlalchemy.engine.Engine:PRAGMA main.table_info(\"Authors\")\n"
          ]
        },
        {
          "output_type": "stream",
          "name": "stdout",
          "text": [
            "2023-04-16 12:48:52,711 INFO sqlalchemy.engine.Engine [raw sql] ()\n"
          ]
        },
        {
          "output_type": "stream",
          "name": "stderr",
          "text": [
            "INFO:sqlalchemy.engine.Engine:[raw sql] ()\n"
          ]
        },
        {
          "output_type": "stream",
          "name": "stdout",
          "text": [
            "2023-04-16 12:48:52,715 INFO sqlalchemy.engine.Engine PRAGMA main.table_info(\"Books\")\n"
          ]
        },
        {
          "output_type": "stream",
          "name": "stderr",
          "text": [
            "INFO:sqlalchemy.engine.Engine:PRAGMA main.table_info(\"Books\")\n"
          ]
        },
        {
          "output_type": "stream",
          "name": "stdout",
          "text": [
            "2023-04-16 12:48:52,717 INFO sqlalchemy.engine.Engine [raw sql] ()\n"
          ]
        },
        {
          "output_type": "stream",
          "name": "stderr",
          "text": [
            "INFO:sqlalchemy.engine.Engine:[raw sql] ()\n"
          ]
        },
        {
          "output_type": "stream",
          "name": "stdout",
          "text": [
            "2023-04-16 12:48:52,720 INFO sqlalchemy.engine.Engine COMMIT\n"
          ]
        },
        {
          "output_type": "stream",
          "name": "stderr",
          "text": [
            "INFO:sqlalchemy.engine.Engine:COMMIT\n"
          ]
        }
      ]
    },
    {
      "cell_type": "markdown",
      "source": [
        "Теперь попробуем добавить в базу элементы. Напишем функцию, которая добавляет нового автора."
      ],
      "metadata": {
        "id": "n3FC7rj-Gamv"
      }
    },
    {
      "cell_type": "code",
      "source": [
        "def add_new_author(name: str):\n",
        "    insert_author_query = authors.insert().values(name=name) # сам SQL-запрос\n",
        "\n",
        "    conn.execute(insert_author_query) # выполнение запроса\n",
        "\n",
        "    conn.commit() # сохранение изменений\n",
        "\n",
        "add_new_author('Mark Lutz')"
      ],
      "metadata": {
        "colab": {
          "base_uri": "https://localhost:8080/"
        },
        "id": "KIzKGIp7F2DN",
        "outputId": "dd9a9097-a3ea-4d97-9d09-ce04ffbfd49c"
      },
      "execution_count": 9,
      "outputs": [
        {
          "output_type": "stream",
          "name": "stdout",
          "text": [
            "2023-04-16 12:48:55,866 INFO sqlalchemy.engine.Engine BEGIN (implicit)\n"
          ]
        },
        {
          "output_type": "stream",
          "name": "stderr",
          "text": [
            "INFO:sqlalchemy.engine.Engine:BEGIN (implicit)\n"
          ]
        },
        {
          "output_type": "stream",
          "name": "stdout",
          "text": [
            "2023-04-16 12:48:55,873 INFO sqlalchemy.engine.Engine INSERT INTO \"Authors\" (name) VALUES (?)\n"
          ]
        },
        {
          "output_type": "stream",
          "name": "stderr",
          "text": [
            "INFO:sqlalchemy.engine.Engine:INSERT INTO \"Authors\" (name) VALUES (?)\n"
          ]
        },
        {
          "output_type": "stream",
          "name": "stdout",
          "text": [
            "2023-04-16 12:48:55,877 INFO sqlalchemy.engine.Engine [generated in 0.01269s] ('Mark Lutz',)\n"
          ]
        },
        {
          "output_type": "stream",
          "name": "stderr",
          "text": [
            "INFO:sqlalchemy.engine.Engine:[generated in 0.01269s] ('Mark Lutz',)\n"
          ]
        },
        {
          "output_type": "stream",
          "name": "stdout",
          "text": [
            "2023-04-16 12:48:55,882 INFO sqlalchemy.engine.Engine COMMIT\n"
          ]
        },
        {
          "output_type": "stream",
          "name": "stderr",
          "text": [
            "INFO:sqlalchemy.engine.Engine:COMMIT\n"
          ]
        }
      ]
    },
    {
      "cell_type": "markdown",
      "source": [
        "Теперь напишем функцию, которая добавляет новую книгу."
      ],
      "metadata": {
        "id": "uTQxEnamHNzz"
      }
    },
    {
      "cell_type": "code",
      "source": [
        "def add_new_book(title: str, author_id: int, genre: str, price: int):\n",
        "    insert_book_query = books.insert().values(title=title, author_id=author_id, genre=genre,\n",
        "                                              price=price\n",
        "                                              )\n",
        "\n",
        "    conn.execute(insert_book_query)\n",
        "\n",
        "    conn.commit()\n",
        "  \n",
        "add_new_book(title='Learning Python Tom 1', author_id='1', genre='Education', price=3000)\n",
        "\n",
        "add_new_book(title='Learning Python Tom 2', author_id='1', genre='Education', price=4000)"
      ],
      "metadata": {
        "colab": {
          "base_uri": "https://localhost:8080/"
        },
        "id": "jHSjmAxsHFv8",
        "outputId": "e542b80d-f8e6-44b0-802e-e4a56fa43253"
      },
      "execution_count": 11,
      "outputs": [
        {
          "output_type": "stream",
          "name": "stdout",
          "text": [
            "2023-04-16 12:52:52,027 INFO sqlalchemy.engine.Engine BEGIN (implicit)\n"
          ]
        },
        {
          "output_type": "stream",
          "name": "stderr",
          "text": [
            "INFO:sqlalchemy.engine.Engine:BEGIN (implicit)\n"
          ]
        },
        {
          "output_type": "stream",
          "name": "stdout",
          "text": [
            "2023-04-16 12:52:52,035 INFO sqlalchemy.engine.Engine INSERT INTO \"Books\" (title, author_id, genre, price) VALUES (?, ?, ?, ?)\n"
          ]
        },
        {
          "output_type": "stream",
          "name": "stderr",
          "text": [
            "INFO:sqlalchemy.engine.Engine:INSERT INTO \"Books\" (title, author_id, genre, price) VALUES (?, ?, ?, ?)\n"
          ]
        },
        {
          "output_type": "stream",
          "name": "stdout",
          "text": [
            "2023-04-16 12:52:52,042 INFO sqlalchemy.engine.Engine [generated in 0.01549s] ('Learning Python Tom 1', '1', 'Education', 3000)\n"
          ]
        },
        {
          "output_type": "stream",
          "name": "stderr",
          "text": [
            "INFO:sqlalchemy.engine.Engine:[generated in 0.01549s] ('Learning Python Tom 1', '1', 'Education', 3000)\n"
          ]
        },
        {
          "output_type": "stream",
          "name": "stdout",
          "text": [
            "2023-04-16 12:52:52,047 INFO sqlalchemy.engine.Engine COMMIT\n"
          ]
        },
        {
          "output_type": "stream",
          "name": "stderr",
          "text": [
            "INFO:sqlalchemy.engine.Engine:COMMIT\n"
          ]
        },
        {
          "output_type": "stream",
          "name": "stdout",
          "text": [
            "2023-04-16 12:52:52,064 INFO sqlalchemy.engine.Engine BEGIN (implicit)\n"
          ]
        },
        {
          "output_type": "stream",
          "name": "stderr",
          "text": [
            "INFO:sqlalchemy.engine.Engine:BEGIN (implicit)\n"
          ]
        },
        {
          "output_type": "stream",
          "name": "stdout",
          "text": [
            "2023-04-16 12:52:52,066 INFO sqlalchemy.engine.Engine INSERT INTO \"Books\" (title, author_id, genre, price) VALUES (?, ?, ?, ?)\n"
          ]
        },
        {
          "output_type": "stream",
          "name": "stderr",
          "text": [
            "INFO:sqlalchemy.engine.Engine:INSERT INTO \"Books\" (title, author_id, genre, price) VALUES (?, ?, ?, ?)\n"
          ]
        },
        {
          "output_type": "stream",
          "name": "stdout",
          "text": [
            "2023-04-16 12:52:52,068 INFO sqlalchemy.engine.Engine [cached since 0.04162s ago] ('Learning Python Tom 2', '1', 'Education', 4000)\n"
          ]
        },
        {
          "output_type": "stream",
          "name": "stderr",
          "text": [
            "INFO:sqlalchemy.engine.Engine:[cached since 0.04162s ago] ('Learning Python Tom 2', '1', 'Education', 4000)\n"
          ]
        },
        {
          "output_type": "stream",
          "name": "stdout",
          "text": [
            "2023-04-16 12:52:52,071 INFO sqlalchemy.engine.Engine COMMIT\n"
          ]
        },
        {
          "output_type": "stream",
          "name": "stderr",
          "text": [
            "INFO:sqlalchemy.engine.Engine:COMMIT\n"
          ]
        }
      ]
    },
    {
      "cell_type": "markdown",
      "source": [
        "Попробуем теперь добавить книгу, которая уже есть."
      ],
      "metadata": {
        "id": "bFv074J5IRk4"
      }
    },
    {
      "cell_type": "code",
      "source": [
        "try:\n",
        "    add_new_book(title='Learning Python Tom 1', author_id='1', genre='Education', price=3000)\n",
        "\n",
        "except Exception as ex:\n",
        "    print()\n",
        "    print(f'Exception:\\n{ex}!!!')\n",
        "    print()"
      ],
      "metadata": {
        "colab": {
          "base_uri": "https://localhost:8080/"
        },
        "id": "Jj_Ul6m8HWc0",
        "outputId": "92b412ae-99ee-408c-9920-e84bb32a8227"
      },
      "execution_count": 16,
      "outputs": [
        {
          "output_type": "stream",
          "name": "stdout",
          "text": [
            "2023-04-16 12:55:11,331 INFO sqlalchemy.engine.Engine INSERT INTO \"Books\" (title, author_id, genre, price) VALUES (?, ?, ?, ?)\n"
          ]
        },
        {
          "output_type": "stream",
          "name": "stderr",
          "text": [
            "INFO:sqlalchemy.engine.Engine:INSERT INTO \"Books\" (title, author_id, genre, price) VALUES (?, ?, ?, ?)\n"
          ]
        },
        {
          "output_type": "stream",
          "name": "stdout",
          "text": [
            "2023-04-16 12:55:11,335 INFO sqlalchemy.engine.Engine [cached since 139.3s ago] ('Learning Python Tom 1', '1', 'Education', 3000)\n"
          ]
        },
        {
          "output_type": "stream",
          "name": "stderr",
          "text": [
            "INFO:sqlalchemy.engine.Engine:[cached since 139.3s ago] ('Learning Python Tom 1', '1', 'Education', 3000)\n"
          ]
        },
        {
          "output_type": "stream",
          "name": "stdout",
          "text": [
            "\n",
            "Exception:\n",
            "(sqlite3.IntegrityError) UNIQUE constraint failed: Books.title\n",
            "[SQL: INSERT INTO \"Books\" (title, author_id, genre, price) VALUES (?, ?, ?, ?)]\n",
            "[parameters: ('Learning Python Tom 1', '1', 'Education', 3000)]\n",
            "(Background on this error at: https://sqlalche.me/e/20/gkpj)!!!\n",
            "\n"
          ]
        }
      ]
    },
    {
      "cell_type": "markdown",
      "source": [
        "Теперь посмотрим, сохранились ли наши объекты в базе, с помощью ```select```."
      ],
      "metadata": {
        "id": "ny7VhTwtIuoR"
      }
    },
    {
      "cell_type": "code",
      "source": [
        "from sqlalchemy import select\n",
        "\n",
        "def select_query():\n",
        "    books_select_query = books.select().where(books.c.price >= 4000)\n",
        "\n",
        "    print()\n",
        "    print(f'SQL-запрос:\\n{books_select_query}') # посмотрим на сам запрос\n",
        "    print()\n",
        "\n",
        "    result = conn.execute(books_select_query)\n",
        "\n",
        "    print()\n",
        "    print(f'Результат запроса:\\n {result}') # посмотрим на результат запроса\n",
        "    print()\n",
        "\n",
        "    for row in result:\n",
        "        print(row)\n",
        "\n",
        "    result = conn.execute(books_select_query).all() # просто select\n",
        "    \n",
        "    print()\n",
        "    print(f'Результат запроса:\\n {result}')\n",
        "    print()\n",
        "\n",
        "    select_query = select(books, authors).where(books.c.author_id == authors.c.id) # select с фильтрацией\n",
        "\n",
        "    result = conn.execute(select_query).all()\n",
        "\n",
        "    print()\n",
        "    print(f'Результат запроса:\\n {result}')\n",
        "    print()"
      ],
      "metadata": {
        "id": "i3ZNWUeAINTg"
      },
      "execution_count": 19,
      "outputs": []
    },
    {
      "cell_type": "code",
      "source": [
        "select_query()"
      ],
      "metadata": {
        "colab": {
          "base_uri": "https://localhost:8080/"
        },
        "id": "jZfzZfTgI72F",
        "outputId": "c9c10142-81ae-46d4-b630-9c9edf8b55e0"
      },
      "execution_count": 20,
      "outputs": [
        {
          "output_type": "stream",
          "name": "stdout",
          "text": [
            "\n",
            "SQL-запрос:\n",
            "SELECT \"Books\".id, \"Books\".title, \"Books\".author_id, \"Books\".genre, \"Books\".price \n",
            "FROM \"Books\" \n",
            "WHERE \"Books\".price >= :price_1\n",
            "\n",
            "2023-04-16 13:04:05,399 INFO sqlalchemy.engine.Engine SELECT \"Books\".id, \"Books\".title, \"Books\".author_id, \"Books\".genre, \"Books\".price \n",
            "FROM \"Books\" \n",
            "WHERE \"Books\".price >= ?\n"
          ]
        },
        {
          "output_type": "stream",
          "name": "stderr",
          "text": [
            "INFO:sqlalchemy.engine.Engine:SELECT \"Books\".id, \"Books\".title, \"Books\".author_id, \"Books\".genre, \"Books\".price \n",
            "FROM \"Books\" \n",
            "WHERE \"Books\".price >= ?\n"
          ]
        },
        {
          "output_type": "stream",
          "name": "stdout",
          "text": [
            "2023-04-16 13:04:05,404 INFO sqlalchemy.engine.Engine [cached since 420.4s ago] (4000,)\n"
          ]
        },
        {
          "output_type": "stream",
          "name": "stderr",
          "text": [
            "INFO:sqlalchemy.engine.Engine:[cached since 420.4s ago] (4000,)\n"
          ]
        },
        {
          "output_type": "stream",
          "name": "stdout",
          "text": [
            "\n",
            "Результат запроса:\n",
            " <sqlalchemy.engine.cursor.CursorResult object at 0x7f0057cad880>\n",
            "\n",
            "(2, 'Learning Python Tom 2', '1', 'Education', 4000)\n",
            "2023-04-16 13:04:05,413 INFO sqlalchemy.engine.Engine SELECT \"Books\".id, \"Books\".title, \"Books\".author_id, \"Books\".genre, \"Books\".price \n",
            "FROM \"Books\" \n",
            "WHERE \"Books\".price >= ?\n"
          ]
        },
        {
          "output_type": "stream",
          "name": "stderr",
          "text": [
            "INFO:sqlalchemy.engine.Engine:SELECT \"Books\".id, \"Books\".title, \"Books\".author_id, \"Books\".genre, \"Books\".price \n",
            "FROM \"Books\" \n",
            "WHERE \"Books\".price >= ?\n"
          ]
        },
        {
          "output_type": "stream",
          "name": "stdout",
          "text": [
            "2023-04-16 13:04:05,416 INFO sqlalchemy.engine.Engine [cached since 420.5s ago] (4000,)\n"
          ]
        },
        {
          "output_type": "stream",
          "name": "stderr",
          "text": [
            "INFO:sqlalchemy.engine.Engine:[cached since 420.5s ago] (4000,)\n"
          ]
        },
        {
          "output_type": "stream",
          "name": "stdout",
          "text": [
            "\n",
            "Результат запроса:\n",
            " [(2, 'Learning Python Tom 2', '1', 'Education', 4000)]\n",
            "\n",
            "2023-04-16 13:04:05,420 INFO sqlalchemy.engine.Engine SELECT \"Books\".id, \"Books\".title, \"Books\".author_id, \"Books\".genre, \"Books\".price, \"Authors\".id AS id_1, \"Authors\".name \n",
            "FROM \"Books\", \"Authors\" \n",
            "WHERE \"Books\".author_id = \"Authors\".id\n"
          ]
        },
        {
          "output_type": "stream",
          "name": "stderr",
          "text": [
            "INFO:sqlalchemy.engine.Engine:SELECT \"Books\".id, \"Books\".title, \"Books\".author_id, \"Books\".genre, \"Books\".price, \"Authors\".id AS id_1, \"Authors\".name \n",
            "FROM \"Books\", \"Authors\" \n",
            "WHERE \"Books\".author_id = \"Authors\".id\n"
          ]
        },
        {
          "output_type": "stream",
          "name": "stdout",
          "text": [
            "2023-04-16 13:04:05,423 INFO sqlalchemy.engine.Engine [cached since 420.4s ago] ()\n"
          ]
        },
        {
          "output_type": "stream",
          "name": "stderr",
          "text": [
            "INFO:sqlalchemy.engine.Engine:[cached since 420.4s ago] ()\n"
          ]
        },
        {
          "output_type": "stream",
          "name": "stdout",
          "text": [
            "\n",
            "Результат запроса:\n",
            " [(1, 'Learning Python Tom 1', '1', 'Education', 3000, 1, 'Mark Lutz'), (2, 'Learning Python Tom 2', '1', 'Education', 4000, 1, 'Mark Lutz')]\n",
            "\n"
          ]
        }
      ]
    },
    {
      "cell_type": "markdown",
      "source": [
        "Все сохранилось!"
      ],
      "metadata": {
        "id": "GKCAbncOJEN_"
      }
    },
    {
      "cell_type": "markdown",
      "source": [
        "# pyTelegramBotAPI\n",
        "\n",
        "Давайте теперь посмотрим на библиотеку, которая позволяет писать телеграм чат-ботов на Python.\n",
        "\n",
        "Будем использовать библиотеку [pyTelegramBotAPI](https://github.com/eternnoir/pyTelegramBotAPI). Ее официальная документация на [русском](https://pytba.readthedocs.io/ru/latest/index.html) и на [английском](https://pytba.readthedocs.io/en/latest/index.html).\n",
        "\n",
        "Рассмотрим прям из документации."
      ],
      "metadata": {
        "id": "UvRyTyKuJIun"
      }
    },
    {
      "cell_type": "code",
      "source": [
        "from telebot import TeleBot\n",
        "\n",
        "BOT_TOKEN: str = '' # НИКОГДА не выкладывайте токен бота в публичный доступ\n",
        "\n",
        "bot = TeleBot(BOT_TOKEN)\n",
        "\n",
        "# Handle '/start' and '/help'\n",
        "@bot.message_handler(commands=['help', 'start'])\n",
        "def send_welcome(message):\n",
        "    bot.reply_to(message, \"\"\"\\\n",
        "Hi there, I am EchoBot.\n",
        "I am here to echo your kind words back to you. Just say anything nice and I'll say the exact same thing to you!\\\n",
        "\"\"\")\n",
        "\n",
        "\n",
        "# Handle all other messages with content_type 'text' (content_types defaults to ['text'])\n",
        "@bot.message_handler(func=lambda message: True)\n",
        "def echo_message(message):\n",
        "    bot.reply_to(message, message.text)"
      ],
      "metadata": {
        "id": "Rg6GGLUtJUqJ"
      },
      "execution_count": 22,
      "outputs": []
    },
    {
      "cell_type": "markdown",
      "source": [
        "Давайте поменяем приветствие."
      ],
      "metadata": {
        "id": "Q79KsqCsNIfQ"
      }
    },
    {
      "cell_type": "code",
      "source": [
        "from telebot.types import Message\n",
        "\n",
        "WELCOME: str = '''Привет! Это телеграм бот мастерской по Python!\n",
        "Советую нажать для начала на /something :)\n",
        "А чтобы познакомиться, можешь нажать на /reg \n",
        "Если хочешь почитать что-нибудь по Python, нажми /all_books!'''\n",
        "\n",
        "\n",
        "@bot.message_handler(commands=['help', 'start'])\n",
        "def send_welcome(message: Message):\n",
        "    bot.send_message(chat_id=message.chat.id, text=WELCOME)"
      ],
      "metadata": {
        "id": "gl8kzNgwMad7"
      },
      "execution_count": 29,
      "outputs": []
    },
    {
      "cell_type": "markdown",
      "source": [
        "Добавим теперь регистрацию пользователя у нашего бота.\n",
        "\n",
        "Создадим класс ```User``` и будем хранить всех юзеров в списке ```users```."
      ],
      "metadata": {
        "id": "wLapJHLzOp5S"
      }
    },
    {
      "cell_type": "code",
      "source": [
        "class User:\n",
        "    def __init__(self, first_name: str, last_name: str, age: int, chat_id: int):\n",
        "        self.first_name = first_name\n",
        "        self.last_name = last_name\n",
        "        self.age = age\n",
        "        self.chat_id = chat_id\n",
        "\n",
        "    def __repr__(self):\n",
        "        return f'User(first name: {self.first_name}, last_name: {self.last_name}, age: {self.age})'\n",
        "\n",
        "\n",
        "users = []\n",
        "new_user = None"
      ],
      "metadata": {
        "id": "E65pA21FO8Sp"
      },
      "execution_count": 30,
      "outputs": []
    },
    {
      "cell_type": "markdown",
      "source": [
        "Добавим тег [/reg](), по которому будет начинаться регистрация пользователя."
      ],
      "metadata": {
        "id": "9dYn8oYhPQd7"
      }
    },
    {
      "cell_type": "code",
      "source": [
        "@bot.message_handler(commands=['reg'])\n",
        "def reg(message: Message):\n",
        "    bot.send_message(chat_id=message.chat.id,\n",
        "                     text='Введи свое имя, фамилию и возраст в формате фамилия имя возраст. Например, Муниев Аркадий 30 лет')\n",
        "\n",
        "    bot.register_next_step_handler(message=message, callback=signup)"
      ],
      "metadata": {
        "id": "0FTSp1B8PYc5"
      },
      "execution_count": 31,
      "outputs": []
    },
    {
      "cell_type": "markdown",
      "source": [
        "Функция ```signup``` нужна, чтобы обработать данные пользователя, которые он ввел.\n",
        "\n",
        "Если он ввел их правильно, то бот отправит уточняющий вопрос с двумя кнопками, правильно ли бот записал эти данные."
      ],
      "metadata": {
        "id": "FseFHtYqPxrB"
      }
    },
    {
      "cell_type": "code",
      "source": [
        "from telebot import types # чтобы добавлять кнопки\n",
        "\n",
        "@bot.message_handler(content_types=['text'])\n",
        "def signup(message: Message):\n",
        "    parse_message = message.text.split()\n",
        "\n",
        "    if len(parse_message) <= 3:\n",
        "        bot.send_message(chat_id=message.chat.id, text='Чего-то не хватает :(')\n",
        "        bot.register_next_step_handler(message=message, callback=signup)\n",
        "\n",
        "    elif len(parse_message) == 4:\n",
        "\n",
        "        try:\n",
        "            first_name, last_name, age = parse_message[0], parse_message[1], int(parse_message[2])\n",
        "\n",
        "            global new_user\n",
        "\n",
        "            new_user = User(first_name=first_name, last_name=last_name, age=age, chat_id=message.chat.id)\n",
        "\n",
        "            keyboard = types.InlineKeyboardMarkup()  # клавиатура\n",
        "\n",
        "            key_yes = types.InlineKeyboardButton(text='Да', callback_data='yes')  # кнопка «Да»\n",
        "            keyboard.add(key_yes)  # добавление кнопки в клавиатуру\n",
        "\n",
        "            key_no = types.InlineKeyboardButton(text='Нет', callback_data='no')  # кнопка «Нет»\n",
        "            keyboard.add(key_no)  # добавление кнопки в клавиатуру\n",
        "\n",
        "            question = f'Тебя зовут {first_name}, {last_name} и тебе {age} лет?'\n",
        "\n",
        "            bot.send_message(message.from_user.id, text=question, reply_markup=keyboard)\n",
        "\n",
        "        except TypeError:\n",
        "\n",
        "            bot.send_message(chat_id=message.chat.id, text='Неправильно ввел возраст')\n",
        "\n",
        "            bot.register_next_step_handler(message=message, callback=signup)\n",
        "\n",
        "    else:\n",
        "        bot.send_message(chat_id=message.chat.id, text='Слишком много параметров')\n",
        "\n",
        "        bot.register_next_step_handler(message=message, callback=signup)"
      ],
      "metadata": {
        "id": "_Vsou7yLP3ks"
      },
      "execution_count": 35,
      "outputs": []
    },
    {
      "cell_type": "markdown",
      "source": [
        "Обработчик ответа на нажатие кнопки."
      ],
      "metadata": {
        "id": "dktvnJN9QwLV"
      }
    },
    {
      "cell_type": "code",
      "source": [
        "from telebot.types import CallbackQuery\n",
        "\n",
        "@bot.callback_query_handler(func=lambda call: True)\n",
        "def callback_worker(call: CallbackQuery):\n",
        "    if call.data == \"yes\":  # call.data это callback_data, которую мы указали при объявлении кнопки\n",
        "        users.append(new_user)\n",
        "\n",
        "        print(users)\n",
        "\n",
        "        bot.send_message(chat_id=call.message.chat.id, text='Запомню :)')\n",
        "\n",
        "    elif call.data == \"no\":\n",
        "\n",
        "        bot.send_message(chat_id=call.message.chat.id, text='Введи еще раз свое имя, фамилию и возраст')\n",
        "\n",
        "        bot.register_next_step_handler_by_chat_id(call.message.chat.id, callback=signup)"
      ],
      "metadata": {
        "id": "NsiNWcTiQ2Ik"
      },
      "execution_count": 34,
      "outputs": []
    },
    {
      "cell_type": "markdown",
      "source": [
        "Добавим еще тег [/info](), который будет отправлять кнопки со всеми ссылами на наши материалы."
      ],
      "metadata": {
        "id": "QgfCXBnqN3xO"
      }
    },
    {
      "cell_type": "code",
      "source": [
        "@bot.message_handler(commands=['info'])\n",
        "def info(message):\n",
        "    key_board = types.InlineKeyboardMarkup(\n",
        "            [\n",
        "                [types.InlineKeyboardButton(text='GitHub',\n",
        "                                            url='https://github.com/arikmaster22/workshop-python'\n",
        "                                            )\n",
        "                 ],\n",
        "\n",
        "                [types.InlineKeyboardButton(text='Notion',\n",
        "                                            url='https://educated-ambert-8c7.notion.site/Python-f340b5dcdad248f2acc5a26afd79e7ec'\n",
        "                                            )\n",
        "                 ],\n",
        "            ]\n",
        "        )"
      ],
      "metadata": {
        "id": "68bwBq3CNOtj"
      },
      "execution_count": 25,
      "outputs": []
    },
    {
      "cell_type": "markdown",
      "source": [
        "Добавим загадочный тег [/something](), по которому бот отправляет сообщение с ссылкой."
      ],
      "metadata": {
        "id": "4XyqQNpnRZH0"
      }
    },
    {
      "cell_type": "code",
      "source": [
        "@bot.message_handler(commands=['something'])\n",
        "def send_something(message: Message):\n",
        "    bot.send_message(chat_id=message.chat.id,\n",
        "                     text=\"<a href='https://www.youtube.com/watch?v=dQw4w9WgXcQ'>Тыкни!</a>\", parse_mode='HTML',\n",
        "                     disable_web_page_preview=True)"
      ],
      "metadata": {
        "id": "5Y3CtZVHOdGQ"
      },
      "execution_count": 36,
      "outputs": []
    },
    {
      "cell_type": "markdown",
      "source": [
        "И наконец, чтобы свяжем с базой нашего бота через тег [/all_books]()."
      ],
      "metadata": {
        "id": "rG8x1OEAR29I"
      }
    },
    {
      "cell_type": "code",
      "source": [
        "def parse_books(data):\n",
        "    parsed_books: list[str | None] = [None] * len(data)\n",
        "    for i in range(len(data)):\n",
        "        select_query_author_name = select(authors.c.name).where(data[i][2] == authors.c.id)\n",
        "\n",
        "        author_name = conn.execute(select_query_author_name).scalar()\n",
        "\n",
        "        parsed_books[i] = f'Title: {data[i][1]}\\nAuthor: {author_name}\\nPrice: {data[i][4]}\\nGenre: {data[i][3]}'\n",
        "\n",
        "    return parsed_books \n",
        "\n",
        "@bot.message_handler(commands=['all_books'])\n",
        "def send_books(message: Message):\n",
        "    select_query = select(books)\n",
        "\n",
        "    result = conn.execute(select_query).all()\n",
        "\n",
        "    parsed_books = parse_books(result)\n",
        "\n",
        "    for book in parsed_books:\n",
        "        bot.send_message(chat_id=message.chat.id, text=book)"
      ],
      "metadata": {
        "id": "_5usOH40RyZx"
      },
      "execution_count": 37,
      "outputs": []
    },
    {
      "cell_type": "code",
      "source": [],
      "metadata": {
        "id": "ARcXfhzZSal_"
      },
      "execution_count": null,
      "outputs": []
    }
  ]
}